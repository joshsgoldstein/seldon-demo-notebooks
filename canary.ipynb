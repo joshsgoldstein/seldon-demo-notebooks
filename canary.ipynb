{
 "cells": [
  {
   "cell_type": "code",
   "execution_count": 1,
   "metadata": {},
   "outputs": [],
   "source": [
    "# Seldon Deploy SDK\n",
    "from seldon_deploy_sdk import Configuration, ApiClient, SeldonDeploymentsApi, OutlierDetectorApi, DriftDetectorApi, ModelMetadataServiceApi\n",
    "from seldon_deploy_sdk.auth import OIDCAuthenticator"
   ]
  },
  {
   "cell_type": "markdown",
   "metadata": {},
   "source": [
    "# Setup Auth"
   ]
  },
  {
   "cell_type": "code",
   "execution_count": 11,
   "metadata": {},
   "outputs": [],
   "source": [
    "SD_IP = \"34.73.238.47\"\n",
    "config = Configuration()\n",
    "config.host = f\"https://{SD_IP}/seldon-deploy/api/v1alpha1\"\n",
    "config.oidc_client_id = \"sd-api\"\n",
    "config.oidc_server = f\"https://{SD_IP}/auth/realms/deploy-realm\"\n",
    "config.oidc_client_secret = \"sd-api-secret\"\n",
    "config.auth_method = \"client_credentials\"\n",
    "config.verify_ssl = \"False\"\n",
    "\n",
    "def auth():\n",
    "    auth = OIDCAuthenticator(config)\n",
    "    config.id_token = auth.authenticate()\n",
    "    api_client = ApiClient(configuration=config, authenticator=auth)\n",
    "    return api_client"
   ]
  },
  {
   "cell_type": "markdown",
   "metadata": {},
   "source": [
    "# Create Deployment Dictionary"
   ]
  },
  {
   "cell_type": "code",
   "execution_count": 15,
   "metadata": {},
   "outputs": [],
   "source": [
    "YOUR_NAME = \"josh\"\n",
    "DEPLOYMENT_NAME = f\"{YOUR_NAME}-test\"\n",
    "NAMESPACE = \"seldon\"\n",
    "\n",
    "MODEL_NAME = \"inception\"\n",
    "MODEL_LOCATION = \"gs://seldon-models/v1.13.1/sklearn/iris\"\n",
    "MODEL_TYPE = \"SKLEARN_SERVER\"\n",
    "\n",
    "CANARY_NAME = \"simple-cnn\"\n",
    "CANARY_LOCATION = \"gs://seldon-models/xgboost/iris\"\n",
    "CANARY_TYPE = \"XGBOOST_SERVER\"\n",
    "\n",
    "CPU_REQUESTS = \"0.5\"\n",
    "MEMORY_REQUESTS = \"1Gi\"\n",
    "\n",
    "CPU_LIMITS = \"0.5\"\n",
    "MEMORY_LIMITS = \"1Gi\""
   ]
  },
  {
   "cell_type": "code",
   "execution_count": 16,
   "metadata": {},
   "outputs": [],
   "source": [
    "mldeployment = {\n",
    "    \"kind\": \"SeldonDeployment\",\n",
    "    \"metadata\": {\n",
    "        \"name\": DEPLOYMENT_NAME,\n",
    "        \"namespace\": NAMESPACE\n",
    "    },\n",
    "    \"apiVersion\": \"machinelearning.seldon.io/v1alpha2\",\n",
    "    \"spec\": {\n",
    "        \"name\": DEPLOYMENT_NAME,\n",
    "        \"protocol\": \"seldon\",\n",
    "        \"predictors\": [\n",
    "            {\n",
    "                \"componentSpecs\": [\n",
    "                    {\n",
    "                        \"spec\": {\n",
    "                            \"containers\": [\n",
    "                                {\n",
    "                                    \"name\": f\"{MODEL_NAME}\",\n",
    "                                    \"resources\": {\n",
    "                                        \"requests\": {\n",
    "                                            \"cpu\": CPU_REQUESTS,\n",
    "                                            \"memory\": MEMORY_REQUESTS\n",
    "                                        },\n",
    "                                        \"limits\": {\n",
    "                                            \"cpu\": CPU_LIMITS,\n",
    "                                            \"memory\": MEMORY_LIMITS\n",
    "                                        }\n",
    "                                    }\n",
    "                                }\n",
    "                            ]\n",
    "                        }\n",
    "                    }\n",
    "                ],\n",
    "                \"name\": \"default\",\n",
    "                \"replicas\": 1,\n",
    "                \"traffic\": 70,\n",
    "                \"graph\": {\n",
    "                    \"implementation\": MODEL_TYPE,\n",
    "                    \"modelUri\": MODEL_LOCATION,\n",
    "                    \"name\": f\"{MODEL_NAME}\",\n",
    "                    \"logger\": {\n",
    "                        \"mode\": \"all\"\n",
    "                    }\n",
    "                }\n",
    "            },\n",
    "            {\n",
    "                \"componentSpecs\": [\n",
    "                    {\n",
    "                        \"spec\": {\n",
    "                            \"containers\": [\n",
    "                                {\n",
    "                                    \"name\": f\"{CANARY_NAME}\",\n",
    "                                    \"resources\": {\n",
    "                                        \"requests\": {\n",
    "                                            \"cpu\": CPU_REQUESTS,\n",
    "                                            \"memory\": MEMORY_REQUESTS\n",
    "                                        },\n",
    "                                        \"limits\": {\n",
    "                                            \"cpu\": CPU_LIMITS,\n",
    "                                            \"memory\": MEMORY_LIMITS\n",
    "                                        }\n",
    "                                    }\n",
    "                                }\n",
    "                            ]\n",
    "                        }\n",
    "                    }\n",
    "                ],\n",
    "                \"name\": \"canary\",\n",
    "                \"replicas\": 1,\n",
    "                \"annotations\":{\n",
    "                    \"seldon.io/canary\":\"true\"\n",
    "                },\n",
    "                \"traffic\": 30,\n",
    "                \"graph\": {\n",
    "                    \"implementation\": CANARY_TYPE,\n",
    "                    \"modelUri\": CANARY_LOCATION,\n",
    "                    \"name\": f\"{CANARY_NAME}\",\n",
    "                    \"logger\": {\n",
    "                        \"mode\": \"all\"\n",
    "                    }\n",
    "                    }\n",
    "                }\n",
    "        ]\n",
    "    }\n",
    "}"
   ]
  },
  {
   "cell_type": "markdown",
   "metadata": {},
   "source": [
    "Once you have specified your `mldeployment` JSON it is a simple API call to create your deployment. "
   ]
  },
  {
   "cell_type": "code",
   "execution_count": 17,
   "metadata": {},
   "outputs": [
    {
     "ename": "ApiException",
     "evalue": "(403)\nReason: Forbidden\nHTTP response headers: HTTPHeaderDict({'content-type': 'application/json', 'date': 'Wed, 15 Jun 2022 18:31:57 GMT', 'content-length': '105', 'x-envoy-upstream-service-time': '1', 'server': 'istio-envoy'})\nHTTP response body: {\"body\":{\"code\":403,\"message\":\"Authorization Denied\",\"requestId\":\"78e7c631-895b-42ba-8555-4257e2948843\"}}\n",
     "output_type": "error",
     "traceback": [
      "\u001b[0;31m---------------------------------------------------------------------------\u001b[0m",
      "\u001b[0;31mApiException\u001b[0m                              Traceback (most recent call last)",
      "\u001b[1;32m/Users/josh/Documents/job-2021/seldon/seldon-demo-notebooks/canary.ipynb Cell 8'\u001b[0m in \u001b[0;36m<module>\u001b[0;34m\u001b[0m\n\u001b[1;32m      <a href='vscode-notebook-cell:/Users/josh/Documents/job-2021/seldon/seldon-demo-notebooks/canary.ipynb#ch0000004?line=0'>1</a>\u001b[0m deployment_api \u001b[39m=\u001b[39m SeldonDeploymentsApi(auth())\n\u001b[0;32m----> <a href='vscode-notebook-cell:/Users/josh/Documents/job-2021/seldon/seldon-demo-notebooks/canary.ipynb#ch0000004?line=1'>2</a>\u001b[0m deployment_api\u001b[39m.\u001b[39;49mcreate_seldon_deployment(namespace\u001b[39m=\u001b[39;49mNAMESPACE, mldeployment\u001b[39m=\u001b[39;49mmldeployment)\n",
      "File \u001b[0;32m~/opt/anaconda3/envs/data-science/lib/python3.9/site-packages/seldon_deploy_sdk/api/seldon_deployments_api.py:58\u001b[0m, in \u001b[0;36mSeldonDeploymentsApi.create_seldon_deployment\u001b[0;34m(self, namespace, mldeployment, **kwargs)\u001b[0m\n\u001b[1;32m     <a href='file:///Users/josh/opt/anaconda3/envs/data-science/lib/python3.9/site-packages/seldon_deploy_sdk/api/seldon_deployments_api.py?line=55'>56</a>\u001b[0m     \u001b[39mreturn\u001b[39;00m \u001b[39mself\u001b[39m\u001b[39m.\u001b[39mcreate_seldon_deployment_with_http_info(namespace, mldeployment, \u001b[39m*\u001b[39m\u001b[39m*\u001b[39mkwargs)  \u001b[39m# noqa: E501\u001b[39;00m\n\u001b[1;32m     <a href='file:///Users/josh/opt/anaconda3/envs/data-science/lib/python3.9/site-packages/seldon_deploy_sdk/api/seldon_deployments_api.py?line=56'>57</a>\u001b[0m \u001b[39melse\u001b[39;00m:\n\u001b[0;32m---> <a href='file:///Users/josh/opt/anaconda3/envs/data-science/lib/python3.9/site-packages/seldon_deploy_sdk/api/seldon_deployments_api.py?line=57'>58</a>\u001b[0m     (data) \u001b[39m=\u001b[39m \u001b[39mself\u001b[39;49m\u001b[39m.\u001b[39;49mcreate_seldon_deployment_with_http_info(namespace, mldeployment, \u001b[39m*\u001b[39;49m\u001b[39m*\u001b[39;49mkwargs)  \u001b[39m# noqa: E501\u001b[39;00m\n\u001b[1;32m     <a href='file:///Users/josh/opt/anaconda3/envs/data-science/lib/python3.9/site-packages/seldon_deploy_sdk/api/seldon_deployments_api.py?line=58'>59</a>\u001b[0m     \u001b[39mreturn\u001b[39;00m data\n",
      "File \u001b[0;32m~/opt/anaconda3/envs/data-science/lib/python3.9/site-packages/seldon_deploy_sdk/api/seldon_deployments_api.py:135\u001b[0m, in \u001b[0;36mSeldonDeploymentsApi.create_seldon_deployment_with_http_info\u001b[0;34m(self, namespace, mldeployment, **kwargs)\u001b[0m\n\u001b[1;32m    <a href='file:///Users/josh/opt/anaconda3/envs/data-science/lib/python3.9/site-packages/seldon_deploy_sdk/api/seldon_deployments_api.py?line=131'>132</a>\u001b[0m \u001b[39m# Authentication setting\u001b[39;00m\n\u001b[1;32m    <a href='file:///Users/josh/opt/anaconda3/envs/data-science/lib/python3.9/site-packages/seldon_deploy_sdk/api/seldon_deployments_api.py?line=132'>133</a>\u001b[0m auth_settings \u001b[39m=\u001b[39m [\u001b[39m'\u001b[39m\u001b[39mOAuth2\u001b[39m\u001b[39m'\u001b[39m]  \u001b[39m# noqa: E501\u001b[39;00m\n\u001b[0;32m--> <a href='file:///Users/josh/opt/anaconda3/envs/data-science/lib/python3.9/site-packages/seldon_deploy_sdk/api/seldon_deployments_api.py?line=134'>135</a>\u001b[0m \u001b[39mreturn\u001b[39;00m \u001b[39mself\u001b[39;49m\u001b[39m.\u001b[39;49mapi_client\u001b[39m.\u001b[39;49mcall_api(\n\u001b[1;32m    <a href='file:///Users/josh/opt/anaconda3/envs/data-science/lib/python3.9/site-packages/seldon_deploy_sdk/api/seldon_deployments_api.py?line=135'>136</a>\u001b[0m     \u001b[39m'\u001b[39;49m\u001b[39m/namespaces/\u001b[39;49m\u001b[39m{namespace}\u001b[39;49;00m\u001b[39m/seldondeployments\u001b[39;49m\u001b[39m'\u001b[39;49m, \u001b[39m'\u001b[39;49m\u001b[39mPOST\u001b[39;49m\u001b[39m'\u001b[39;49m,\n\u001b[1;32m    <a href='file:///Users/josh/opt/anaconda3/envs/data-science/lib/python3.9/site-packages/seldon_deploy_sdk/api/seldon_deployments_api.py?line=136'>137</a>\u001b[0m     path_params,\n\u001b[1;32m    <a href='file:///Users/josh/opt/anaconda3/envs/data-science/lib/python3.9/site-packages/seldon_deploy_sdk/api/seldon_deployments_api.py?line=137'>138</a>\u001b[0m     query_params,\n\u001b[1;32m    <a href='file:///Users/josh/opt/anaconda3/envs/data-science/lib/python3.9/site-packages/seldon_deploy_sdk/api/seldon_deployments_api.py?line=138'>139</a>\u001b[0m     header_params,\n\u001b[1;32m    <a href='file:///Users/josh/opt/anaconda3/envs/data-science/lib/python3.9/site-packages/seldon_deploy_sdk/api/seldon_deployments_api.py?line=139'>140</a>\u001b[0m     body\u001b[39m=\u001b[39;49mbody_params,\n\u001b[1;32m    <a href='file:///Users/josh/opt/anaconda3/envs/data-science/lib/python3.9/site-packages/seldon_deploy_sdk/api/seldon_deployments_api.py?line=140'>141</a>\u001b[0m     post_params\u001b[39m=\u001b[39;49mform_params,\n\u001b[1;32m    <a href='file:///Users/josh/opt/anaconda3/envs/data-science/lib/python3.9/site-packages/seldon_deploy_sdk/api/seldon_deployments_api.py?line=141'>142</a>\u001b[0m     files\u001b[39m=\u001b[39;49mlocal_var_files,\n\u001b[1;32m    <a href='file:///Users/josh/opt/anaconda3/envs/data-science/lib/python3.9/site-packages/seldon_deploy_sdk/api/seldon_deployments_api.py?line=142'>143</a>\u001b[0m     response_type\u001b[39m=\u001b[39;49m\u001b[39m'\u001b[39;49m\u001b[39mSeldonDeployment\u001b[39;49m\u001b[39m'\u001b[39;49m,  \u001b[39m# noqa: E501\u001b[39;49;00m\n\u001b[1;32m    <a href='file:///Users/josh/opt/anaconda3/envs/data-science/lib/python3.9/site-packages/seldon_deploy_sdk/api/seldon_deployments_api.py?line=143'>144</a>\u001b[0m     auth_settings\u001b[39m=\u001b[39;49mauth_settings,\n\u001b[1;32m    <a href='file:///Users/josh/opt/anaconda3/envs/data-science/lib/python3.9/site-packages/seldon_deploy_sdk/api/seldon_deployments_api.py?line=144'>145</a>\u001b[0m     async_req\u001b[39m=\u001b[39;49mparams\u001b[39m.\u001b[39;49mget(\u001b[39m'\u001b[39;49m\u001b[39masync_req\u001b[39;49m\u001b[39m'\u001b[39;49m),\n\u001b[1;32m    <a href='file:///Users/josh/opt/anaconda3/envs/data-science/lib/python3.9/site-packages/seldon_deploy_sdk/api/seldon_deployments_api.py?line=145'>146</a>\u001b[0m     _return_http_data_only\u001b[39m=\u001b[39;49mparams\u001b[39m.\u001b[39;49mget(\u001b[39m'\u001b[39;49m\u001b[39m_return_http_data_only\u001b[39;49m\u001b[39m'\u001b[39;49m),\n\u001b[1;32m    <a href='file:///Users/josh/opt/anaconda3/envs/data-science/lib/python3.9/site-packages/seldon_deploy_sdk/api/seldon_deployments_api.py?line=146'>147</a>\u001b[0m     _preload_content\u001b[39m=\u001b[39;49mparams\u001b[39m.\u001b[39;49mget(\u001b[39m'\u001b[39;49m\u001b[39m_preload_content\u001b[39;49m\u001b[39m'\u001b[39;49m, \u001b[39mTrue\u001b[39;49;00m),\n\u001b[1;32m    <a href='file:///Users/josh/opt/anaconda3/envs/data-science/lib/python3.9/site-packages/seldon_deploy_sdk/api/seldon_deployments_api.py?line=147'>148</a>\u001b[0m     _request_timeout\u001b[39m=\u001b[39;49mparams\u001b[39m.\u001b[39;49mget(\u001b[39m'\u001b[39;49m\u001b[39m_request_timeout\u001b[39;49m\u001b[39m'\u001b[39;49m),\n\u001b[1;32m    <a href='file:///Users/josh/opt/anaconda3/envs/data-science/lib/python3.9/site-packages/seldon_deploy_sdk/api/seldon_deployments_api.py?line=148'>149</a>\u001b[0m     collection_formats\u001b[39m=\u001b[39;49mcollection_formats)\n",
      "File \u001b[0;32m~/opt/anaconda3/envs/data-science/lib/python3.9/site-packages/seldon_deploy_sdk/api_client.py:352\u001b[0m, in \u001b[0;36mApiClient.call_api\u001b[0;34m(self, resource_path, method, path_params, query_params, header_params, body, post_params, files, response_type, auth_settings, async_req, _return_http_data_only, collection_formats, _preload_content, _request_timeout)\u001b[0m\n\u001b[1;32m    <a href='file:///Users/josh/opt/anaconda3/envs/data-science/lib/python3.9/site-packages/seldon_deploy_sdk/api_client.py?line=314'>315</a>\u001b[0m \u001b[39m\"\"\"Makes the HTTP request (synchronous) and returns deserialized data.\u001b[39;00m\n\u001b[1;32m    <a href='file:///Users/josh/opt/anaconda3/envs/data-science/lib/python3.9/site-packages/seldon_deploy_sdk/api_client.py?line=315'>316</a>\u001b[0m \n\u001b[1;32m    <a href='file:///Users/josh/opt/anaconda3/envs/data-science/lib/python3.9/site-packages/seldon_deploy_sdk/api_client.py?line=316'>317</a>\u001b[0m \u001b[39mTo make an async request, set the async_req parameter.\u001b[39;00m\n\u001b[0;32m   (...)\u001b[0m\n\u001b[1;32m    <a href='file:///Users/josh/opt/anaconda3/envs/data-science/lib/python3.9/site-packages/seldon_deploy_sdk/api_client.py?line=348'>349</a>\u001b[0m \u001b[39m    then the method will return the response directly.\u001b[39;00m\n\u001b[1;32m    <a href='file:///Users/josh/opt/anaconda3/envs/data-science/lib/python3.9/site-packages/seldon_deploy_sdk/api_client.py?line=349'>350</a>\u001b[0m \u001b[39m\"\"\"\u001b[39;00m\n\u001b[1;32m    <a href='file:///Users/josh/opt/anaconda3/envs/data-science/lib/python3.9/site-packages/seldon_deploy_sdk/api_client.py?line=350'>351</a>\u001b[0m \u001b[39mif\u001b[39;00m \u001b[39mnot\u001b[39;00m async_req:\n\u001b[0;32m--> <a href='file:///Users/josh/opt/anaconda3/envs/data-science/lib/python3.9/site-packages/seldon_deploy_sdk/api_client.py?line=351'>352</a>\u001b[0m     \u001b[39mreturn\u001b[39;00m \u001b[39mself\u001b[39;49m\u001b[39m.\u001b[39;49m__call_api_with_retry(resource_path, method,\n\u001b[1;32m    <a href='file:///Users/josh/opt/anaconda3/envs/data-science/lib/python3.9/site-packages/seldon_deploy_sdk/api_client.py?line=352'>353</a>\u001b[0m                            path_params, query_params, header_params,\n\u001b[1;32m    <a href='file:///Users/josh/opt/anaconda3/envs/data-science/lib/python3.9/site-packages/seldon_deploy_sdk/api_client.py?line=353'>354</a>\u001b[0m                            body, post_params, files,\n\u001b[1;32m    <a href='file:///Users/josh/opt/anaconda3/envs/data-science/lib/python3.9/site-packages/seldon_deploy_sdk/api_client.py?line=354'>355</a>\u001b[0m                            response_type, auth_settings,\n\u001b[1;32m    <a href='file:///Users/josh/opt/anaconda3/envs/data-science/lib/python3.9/site-packages/seldon_deploy_sdk/api_client.py?line=355'>356</a>\u001b[0m                            _return_http_data_only, collection_formats,\n\u001b[1;32m    <a href='file:///Users/josh/opt/anaconda3/envs/data-science/lib/python3.9/site-packages/seldon_deploy_sdk/api_client.py?line=356'>357</a>\u001b[0m                            _preload_content, _request_timeout)\n\u001b[1;32m    <a href='file:///Users/josh/opt/anaconda3/envs/data-science/lib/python3.9/site-packages/seldon_deploy_sdk/api_client.py?line=357'>358</a>\u001b[0m \u001b[39melse\u001b[39;00m:\n\u001b[1;32m    <a href='file:///Users/josh/opt/anaconda3/envs/data-science/lib/python3.9/site-packages/seldon_deploy_sdk/api_client.py?line=358'>359</a>\u001b[0m     thread \u001b[39m=\u001b[39m \u001b[39mself\u001b[39m\u001b[39m.\u001b[39mpool\u001b[39m.\u001b[39mapply_async(\u001b[39mself\u001b[39m\u001b[39m.\u001b[39m__call_api_with_retry, (resource_path,\n\u001b[1;32m    <a href='file:///Users/josh/opt/anaconda3/envs/data-science/lib/python3.9/site-packages/seldon_deploy_sdk/api_client.py?line=359'>360</a>\u001b[0m                                    method, path_params, query_params,\n\u001b[1;32m    <a href='file:///Users/josh/opt/anaconda3/envs/data-science/lib/python3.9/site-packages/seldon_deploy_sdk/api_client.py?line=360'>361</a>\u001b[0m                                    header_params, body,\n\u001b[0;32m   (...)\u001b[0m\n\u001b[1;32m    <a href='file:///Users/josh/opt/anaconda3/envs/data-science/lib/python3.9/site-packages/seldon_deploy_sdk/api_client.py?line=364'>365</a>\u001b[0m                                    collection_formats,\n\u001b[1;32m    <a href='file:///Users/josh/opt/anaconda3/envs/data-science/lib/python3.9/site-packages/seldon_deploy_sdk/api_client.py?line=365'>366</a>\u001b[0m                                    _preload_content, _request_timeout))\n",
      "File \u001b[0;32m~/opt/anaconda3/envs/data-science/lib/python3.9/site-packages/seldon_deploy_sdk/api_client.py:127\u001b[0m, in \u001b[0;36mApiClient.__call_api_with_retry\u001b[0;34m(self, resource_path, method, path_params, query_params, header_params, body, post_params, files, response_type, auth_settings, _return_http_data_only, collection_formats, _preload_content, _request_timeout)\u001b[0m\n\u001b[1;32m    <a href='file:///Users/josh/opt/anaconda3/envs/data-science/lib/python3.9/site-packages/seldon_deploy_sdk/api_client.py?line=120'>121</a>\u001b[0m     \u001b[39mreturn\u001b[39;00m \u001b[39mself\u001b[39m\u001b[39m.\u001b[39m__call_api(resource_path\u001b[39m=\u001b[39mresource_path,method\u001b[39m=\u001b[39mmethod,path_params\u001b[39m=\u001b[39mpath_params,query_params\u001b[39m=\u001b[39mquery_params,\n\u001b[1;32m    <a href='file:///Users/josh/opt/anaconda3/envs/data-science/lib/python3.9/site-packages/seldon_deploy_sdk/api_client.py?line=121'>122</a>\u001b[0m                 header_params\u001b[39m=\u001b[39mheader_params,body\u001b[39m=\u001b[39mbody,post_params\u001b[39m=\u001b[39mpost_params,files\u001b[39m=\u001b[39mfiles,\n\u001b[1;32m    <a href='file:///Users/josh/opt/anaconda3/envs/data-science/lib/python3.9/site-packages/seldon_deploy_sdk/api_client.py?line=122'>123</a>\u001b[0m                 response_type\u001b[39m=\u001b[39mresponse_type, auth_settings\u001b[39m=\u001b[39mauth_settings,\n\u001b[1;32m    <a href='file:///Users/josh/opt/anaconda3/envs/data-science/lib/python3.9/site-packages/seldon_deploy_sdk/api_client.py?line=123'>124</a>\u001b[0m                 _return_http_data_only\u001b[39m=\u001b[39m_return_http_data_only, collection_formats\u001b[39m=\u001b[39mcollection_formats,\n\u001b[1;32m    <a href='file:///Users/josh/opt/anaconda3/envs/data-science/lib/python3.9/site-packages/seldon_deploy_sdk/api_client.py?line=124'>125</a>\u001b[0m                 _preload_content\u001b[39m=\u001b[39m_preload_content,_request_timeout\u001b[39m=\u001b[39m_request_timeout)\n\u001b[1;32m    <a href='file:///Users/josh/opt/anaconda3/envs/data-science/lib/python3.9/site-packages/seldon_deploy_sdk/api_client.py?line=125'>126</a>\u001b[0m \u001b[39melse\u001b[39;00m:\n\u001b[0;32m--> <a href='file:///Users/josh/opt/anaconda3/envs/data-science/lib/python3.9/site-packages/seldon_deploy_sdk/api_client.py?line=126'>127</a>\u001b[0m     \u001b[39mraise\u001b[39;00m e\n",
      "File \u001b[0;32m~/opt/anaconda3/envs/data-science/lib/python3.9/site-packages/seldon_deploy_sdk/api_client.py:111\u001b[0m, in \u001b[0;36mApiClient.__call_api_with_retry\u001b[0;34m(self, resource_path, method, path_params, query_params, header_params, body, post_params, files, response_type, auth_settings, _return_http_data_only, collection_formats, _preload_content, _request_timeout)\u001b[0m\n\u001b[1;32m    <a href='file:///Users/josh/opt/anaconda3/envs/data-science/lib/python3.9/site-packages/seldon_deploy_sdk/api_client.py?line=103'>104</a>\u001b[0m \u001b[39mdef\u001b[39;00m \u001b[39m__call_api_with_retry\u001b[39m(\n\u001b[1;32m    <a href='file:///Users/josh/opt/anaconda3/envs/data-science/lib/python3.9/site-packages/seldon_deploy_sdk/api_client.py?line=104'>105</a>\u001b[0m         \u001b[39mself\u001b[39m, resource_path, method, path_params\u001b[39m=\u001b[39m\u001b[39mNone\u001b[39;00m,\n\u001b[1;32m    <a href='file:///Users/josh/opt/anaconda3/envs/data-science/lib/python3.9/site-packages/seldon_deploy_sdk/api_client.py?line=105'>106</a>\u001b[0m         query_params\u001b[39m=\u001b[39m\u001b[39mNone\u001b[39;00m, header_params\u001b[39m=\u001b[39m\u001b[39mNone\u001b[39;00m, body\u001b[39m=\u001b[39m\u001b[39mNone\u001b[39;00m, post_params\u001b[39m=\u001b[39m\u001b[39mNone\u001b[39;00m,\n\u001b[1;32m    <a href='file:///Users/josh/opt/anaconda3/envs/data-science/lib/python3.9/site-packages/seldon_deploy_sdk/api_client.py?line=106'>107</a>\u001b[0m         files\u001b[39m=\u001b[39m\u001b[39mNone\u001b[39;00m, response_type\u001b[39m=\u001b[39m\u001b[39mNone\u001b[39;00m, auth_settings\u001b[39m=\u001b[39m\u001b[39mNone\u001b[39;00m,\n\u001b[1;32m    <a href='file:///Users/josh/opt/anaconda3/envs/data-science/lib/python3.9/site-packages/seldon_deploy_sdk/api_client.py?line=107'>108</a>\u001b[0m         _return_http_data_only\u001b[39m=\u001b[39m\u001b[39mNone\u001b[39;00m, collection_formats\u001b[39m=\u001b[39m\u001b[39mNone\u001b[39;00m,\n\u001b[1;32m    <a href='file:///Users/josh/opt/anaconda3/envs/data-science/lib/python3.9/site-packages/seldon_deploy_sdk/api_client.py?line=108'>109</a>\u001b[0m         _preload_content\u001b[39m=\u001b[39m\u001b[39mTrue\u001b[39;00m, _request_timeout\u001b[39m=\u001b[39m\u001b[39mNone\u001b[39;00m):\n\u001b[1;32m    <a href='file:///Users/josh/opt/anaconda3/envs/data-science/lib/python3.9/site-packages/seldon_deploy_sdk/api_client.py?line=109'>110</a>\u001b[0m     \u001b[39mtry\u001b[39;00m:\n\u001b[0;32m--> <a href='file:///Users/josh/opt/anaconda3/envs/data-science/lib/python3.9/site-packages/seldon_deploy_sdk/api_client.py?line=110'>111</a>\u001b[0m         \u001b[39mreturn\u001b[39;00m \u001b[39mself\u001b[39;49m\u001b[39m.\u001b[39;49m__call_api(resource_path\u001b[39m=\u001b[39;49mresource_path,method\u001b[39m=\u001b[39;49mmethod,path_params\u001b[39m=\u001b[39;49mpath_params,query_params\u001b[39m=\u001b[39;49mquery_params,\n\u001b[1;32m    <a href='file:///Users/josh/opt/anaconda3/envs/data-science/lib/python3.9/site-packages/seldon_deploy_sdk/api_client.py?line=111'>112</a>\u001b[0m                         header_params\u001b[39m=\u001b[39;49mheader_params,body\u001b[39m=\u001b[39;49mbody,post_params\u001b[39m=\u001b[39;49mpost_params,files\u001b[39m=\u001b[39;49mfiles,\n\u001b[1;32m    <a href='file:///Users/josh/opt/anaconda3/envs/data-science/lib/python3.9/site-packages/seldon_deploy_sdk/api_client.py?line=112'>113</a>\u001b[0m                         response_type\u001b[39m=\u001b[39;49mresponse_type, auth_settings\u001b[39m=\u001b[39;49mauth_settings,\n\u001b[1;32m    <a href='file:///Users/josh/opt/anaconda3/envs/data-science/lib/python3.9/site-packages/seldon_deploy_sdk/api_client.py?line=113'>114</a>\u001b[0m                         _return_http_data_only\u001b[39m=\u001b[39;49m_return_http_data_only, collection_formats\u001b[39m=\u001b[39;49mcollection_formats,\n\u001b[1;32m    <a href='file:///Users/josh/opt/anaconda3/envs/data-science/lib/python3.9/site-packages/seldon_deploy_sdk/api_client.py?line=114'>115</a>\u001b[0m                         _preload_content\u001b[39m=\u001b[39;49m_preload_content,_request_timeout\u001b[39m=\u001b[39;49m_request_timeout)\n\u001b[1;32m    <a href='file:///Users/josh/opt/anaconda3/envs/data-science/lib/python3.9/site-packages/seldon_deploy_sdk/api_client.py?line=115'>116</a>\u001b[0m     \u001b[39mexcept\u001b[39;00m seldon_deploy_sdk\u001b[39m.\u001b[39mrest\u001b[39m.\u001b[39mApiException \u001b[39mas\u001b[39;00m e:\n\u001b[1;32m    <a href='file:///Users/josh/opt/anaconda3/envs/data-science/lib/python3.9/site-packages/seldon_deploy_sdk/api_client.py?line=116'>117</a>\u001b[0m         \u001b[39m#if unauthenticated and have authenticator try refreshing in case token expired\u001b[39;00m\n\u001b[1;32m    <a href='file:///Users/josh/opt/anaconda3/envs/data-science/lib/python3.9/site-packages/seldon_deploy_sdk/api_client.py?line=117'>118</a>\u001b[0m         \u001b[39mif\u001b[39;00m e\u001b[39m.\u001b[39mstatus \u001b[39m==\u001b[39m \u001b[39m401\u001b[39m \u001b[39mand\u001b[39;00m \u001b[39mself\u001b[39m\u001b[39m.\u001b[39mauthenticator \u001b[39mis\u001b[39;00m \u001b[39mnot\u001b[39;00m \u001b[39mNone\u001b[39;00m:\n",
      "File \u001b[0;32m~/opt/anaconda3/envs/data-science/lib/python3.9/site-packages/seldon_deploy_sdk/api_client.py:184\u001b[0m, in \u001b[0;36mApiClient.__call_api\u001b[0;34m(self, resource_path, method, path_params, query_params, header_params, body, post_params, files, response_type, auth_settings, _return_http_data_only, collection_formats, _preload_content, _request_timeout)\u001b[0m\n\u001b[1;32m    <a href='file:///Users/josh/opt/anaconda3/envs/data-science/lib/python3.9/site-packages/seldon_deploy_sdk/api_client.py?line=180'>181</a>\u001b[0m url \u001b[39m=\u001b[39m \u001b[39mself\u001b[39m\u001b[39m.\u001b[39mconfiguration\u001b[39m.\u001b[39mhost \u001b[39m+\u001b[39m resource_path\n\u001b[1;32m    <a href='file:///Users/josh/opt/anaconda3/envs/data-science/lib/python3.9/site-packages/seldon_deploy_sdk/api_client.py?line=182'>183</a>\u001b[0m \u001b[39m# perform request and return response\u001b[39;00m\n\u001b[0;32m--> <a href='file:///Users/josh/opt/anaconda3/envs/data-science/lib/python3.9/site-packages/seldon_deploy_sdk/api_client.py?line=183'>184</a>\u001b[0m response_data \u001b[39m=\u001b[39m \u001b[39mself\u001b[39;49m\u001b[39m.\u001b[39;49mrequest(\n\u001b[1;32m    <a href='file:///Users/josh/opt/anaconda3/envs/data-science/lib/python3.9/site-packages/seldon_deploy_sdk/api_client.py?line=184'>185</a>\u001b[0m     method, url, query_params\u001b[39m=\u001b[39;49mquery_params, headers\u001b[39m=\u001b[39;49mheader_params,\n\u001b[1;32m    <a href='file:///Users/josh/opt/anaconda3/envs/data-science/lib/python3.9/site-packages/seldon_deploy_sdk/api_client.py?line=185'>186</a>\u001b[0m     post_params\u001b[39m=\u001b[39;49mpost_params, body\u001b[39m=\u001b[39;49mbody,\n\u001b[1;32m    <a href='file:///Users/josh/opt/anaconda3/envs/data-science/lib/python3.9/site-packages/seldon_deploy_sdk/api_client.py?line=186'>187</a>\u001b[0m     _preload_content\u001b[39m=\u001b[39;49m_preload_content,\n\u001b[1;32m    <a href='file:///Users/josh/opt/anaconda3/envs/data-science/lib/python3.9/site-packages/seldon_deploy_sdk/api_client.py?line=187'>188</a>\u001b[0m     _request_timeout\u001b[39m=\u001b[39;49m_request_timeout)\n\u001b[1;32m    <a href='file:///Users/josh/opt/anaconda3/envs/data-science/lib/python3.9/site-packages/seldon_deploy_sdk/api_client.py?line=189'>190</a>\u001b[0m \u001b[39mself\u001b[39m\u001b[39m.\u001b[39mlast_response \u001b[39m=\u001b[39m response_data\n\u001b[1;32m    <a href='file:///Users/josh/opt/anaconda3/envs/data-science/lib/python3.9/site-packages/seldon_deploy_sdk/api_client.py?line=191'>192</a>\u001b[0m return_data \u001b[39m=\u001b[39m response_data\n",
      "File \u001b[0;32m~/opt/anaconda3/envs/data-science/lib/python3.9/site-packages/seldon_deploy_sdk/api_client.py:394\u001b[0m, in \u001b[0;36mApiClient.request\u001b[0;34m(self, method, url, query_params, headers, post_params, body, _preload_content, _request_timeout)\u001b[0m\n\u001b[1;32m    <a href='file:///Users/josh/opt/anaconda3/envs/data-science/lib/python3.9/site-packages/seldon_deploy_sdk/api_client.py?line=385'>386</a>\u001b[0m     \u001b[39mreturn\u001b[39;00m \u001b[39mself\u001b[39m\u001b[39m.\u001b[39mrest_client\u001b[39m.\u001b[39mOPTIONS(url,\n\u001b[1;32m    <a href='file:///Users/josh/opt/anaconda3/envs/data-science/lib/python3.9/site-packages/seldon_deploy_sdk/api_client.py?line=386'>387</a>\u001b[0m                                     query_params\u001b[39m=\u001b[39mquery_params,\n\u001b[1;32m    <a href='file:///Users/josh/opt/anaconda3/envs/data-science/lib/python3.9/site-packages/seldon_deploy_sdk/api_client.py?line=387'>388</a>\u001b[0m                                     headers\u001b[39m=\u001b[39mheaders,\n\u001b[0;32m   (...)\u001b[0m\n\u001b[1;32m    <a href='file:///Users/josh/opt/anaconda3/envs/data-science/lib/python3.9/site-packages/seldon_deploy_sdk/api_client.py?line=390'>391</a>\u001b[0m                                     _request_timeout\u001b[39m=\u001b[39m_request_timeout,\n\u001b[1;32m    <a href='file:///Users/josh/opt/anaconda3/envs/data-science/lib/python3.9/site-packages/seldon_deploy_sdk/api_client.py?line=391'>392</a>\u001b[0m                                     body\u001b[39m=\u001b[39mbody)\n\u001b[1;32m    <a href='file:///Users/josh/opt/anaconda3/envs/data-science/lib/python3.9/site-packages/seldon_deploy_sdk/api_client.py?line=392'>393</a>\u001b[0m \u001b[39melif\u001b[39;00m method \u001b[39m==\u001b[39m \u001b[39m\"\u001b[39m\u001b[39mPOST\u001b[39m\u001b[39m\"\u001b[39m:\n\u001b[0;32m--> <a href='file:///Users/josh/opt/anaconda3/envs/data-science/lib/python3.9/site-packages/seldon_deploy_sdk/api_client.py?line=393'>394</a>\u001b[0m     \u001b[39mreturn\u001b[39;00m \u001b[39mself\u001b[39;49m\u001b[39m.\u001b[39;49mrest_client\u001b[39m.\u001b[39;49mPOST(url,\n\u001b[1;32m    <a href='file:///Users/josh/opt/anaconda3/envs/data-science/lib/python3.9/site-packages/seldon_deploy_sdk/api_client.py?line=394'>395</a>\u001b[0m                                  query_params\u001b[39m=\u001b[39;49mquery_params,\n\u001b[1;32m    <a href='file:///Users/josh/opt/anaconda3/envs/data-science/lib/python3.9/site-packages/seldon_deploy_sdk/api_client.py?line=395'>396</a>\u001b[0m                                  headers\u001b[39m=\u001b[39;49mheaders,\n\u001b[1;32m    <a href='file:///Users/josh/opt/anaconda3/envs/data-science/lib/python3.9/site-packages/seldon_deploy_sdk/api_client.py?line=396'>397</a>\u001b[0m                                  post_params\u001b[39m=\u001b[39;49mpost_params,\n\u001b[1;32m    <a href='file:///Users/josh/opt/anaconda3/envs/data-science/lib/python3.9/site-packages/seldon_deploy_sdk/api_client.py?line=397'>398</a>\u001b[0m                                  _preload_content\u001b[39m=\u001b[39;49m_preload_content,\n\u001b[1;32m    <a href='file:///Users/josh/opt/anaconda3/envs/data-science/lib/python3.9/site-packages/seldon_deploy_sdk/api_client.py?line=398'>399</a>\u001b[0m                                  _request_timeout\u001b[39m=\u001b[39;49m_request_timeout,\n\u001b[1;32m    <a href='file:///Users/josh/opt/anaconda3/envs/data-science/lib/python3.9/site-packages/seldon_deploy_sdk/api_client.py?line=399'>400</a>\u001b[0m                                  body\u001b[39m=\u001b[39;49mbody)\n\u001b[1;32m    <a href='file:///Users/josh/opt/anaconda3/envs/data-science/lib/python3.9/site-packages/seldon_deploy_sdk/api_client.py?line=400'>401</a>\u001b[0m \u001b[39melif\u001b[39;00m method \u001b[39m==\u001b[39m \u001b[39m\"\u001b[39m\u001b[39mPUT\u001b[39m\u001b[39m\"\u001b[39m:\n\u001b[1;32m    <a href='file:///Users/josh/opt/anaconda3/envs/data-science/lib/python3.9/site-packages/seldon_deploy_sdk/api_client.py?line=401'>402</a>\u001b[0m     \u001b[39mreturn\u001b[39;00m \u001b[39mself\u001b[39m\u001b[39m.\u001b[39mrest_client\u001b[39m.\u001b[39mPUT(url,\n\u001b[1;32m    <a href='file:///Users/josh/opt/anaconda3/envs/data-science/lib/python3.9/site-packages/seldon_deploy_sdk/api_client.py?line=402'>403</a>\u001b[0m                                 query_params\u001b[39m=\u001b[39mquery_params,\n\u001b[1;32m    <a href='file:///Users/josh/opt/anaconda3/envs/data-science/lib/python3.9/site-packages/seldon_deploy_sdk/api_client.py?line=403'>404</a>\u001b[0m                                 headers\u001b[39m=\u001b[39mheaders,\n\u001b[0;32m   (...)\u001b[0m\n\u001b[1;32m    <a href='file:///Users/josh/opt/anaconda3/envs/data-science/lib/python3.9/site-packages/seldon_deploy_sdk/api_client.py?line=406'>407</a>\u001b[0m                                 _request_timeout\u001b[39m=\u001b[39m_request_timeout,\n\u001b[1;32m    <a href='file:///Users/josh/opt/anaconda3/envs/data-science/lib/python3.9/site-packages/seldon_deploy_sdk/api_client.py?line=407'>408</a>\u001b[0m                                 body\u001b[39m=\u001b[39mbody)\n",
      "File \u001b[0;32m~/opt/anaconda3/envs/data-science/lib/python3.9/site-packages/seldon_deploy_sdk/rest.py:269\u001b[0m, in \u001b[0;36mRESTClientObject.POST\u001b[0;34m(self, url, headers, query_params, post_params, body, _preload_content, _request_timeout)\u001b[0m\n\u001b[1;32m    <a href='file:///Users/josh/opt/anaconda3/envs/data-science/lib/python3.9/site-packages/seldon_deploy_sdk/rest.py?line=266'>267</a>\u001b[0m \u001b[39mdef\u001b[39;00m \u001b[39mPOST\u001b[39m(\u001b[39mself\u001b[39m, url, headers\u001b[39m=\u001b[39m\u001b[39mNone\u001b[39;00m, query_params\u001b[39m=\u001b[39m\u001b[39mNone\u001b[39;00m, post_params\u001b[39m=\u001b[39m\u001b[39mNone\u001b[39;00m,\n\u001b[1;32m    <a href='file:///Users/josh/opt/anaconda3/envs/data-science/lib/python3.9/site-packages/seldon_deploy_sdk/rest.py?line=267'>268</a>\u001b[0m          body\u001b[39m=\u001b[39m\u001b[39mNone\u001b[39;00m, _preload_content\u001b[39m=\u001b[39m\u001b[39mTrue\u001b[39;00m, _request_timeout\u001b[39m=\u001b[39m\u001b[39mNone\u001b[39;00m):\n\u001b[0;32m--> <a href='file:///Users/josh/opt/anaconda3/envs/data-science/lib/python3.9/site-packages/seldon_deploy_sdk/rest.py?line=268'>269</a>\u001b[0m     \u001b[39mreturn\u001b[39;00m \u001b[39mself\u001b[39;49m\u001b[39m.\u001b[39;49mrequest(\u001b[39m\"\u001b[39;49m\u001b[39mPOST\u001b[39;49m\u001b[39m\"\u001b[39;49m, url,\n\u001b[1;32m    <a href='file:///Users/josh/opt/anaconda3/envs/data-science/lib/python3.9/site-packages/seldon_deploy_sdk/rest.py?line=269'>270</a>\u001b[0m                         headers\u001b[39m=\u001b[39;49mheaders,\n\u001b[1;32m    <a href='file:///Users/josh/opt/anaconda3/envs/data-science/lib/python3.9/site-packages/seldon_deploy_sdk/rest.py?line=270'>271</a>\u001b[0m                         query_params\u001b[39m=\u001b[39;49mquery_params,\n\u001b[1;32m    <a href='file:///Users/josh/opt/anaconda3/envs/data-science/lib/python3.9/site-packages/seldon_deploy_sdk/rest.py?line=271'>272</a>\u001b[0m                         post_params\u001b[39m=\u001b[39;49mpost_params,\n\u001b[1;32m    <a href='file:///Users/josh/opt/anaconda3/envs/data-science/lib/python3.9/site-packages/seldon_deploy_sdk/rest.py?line=272'>273</a>\u001b[0m                         _preload_content\u001b[39m=\u001b[39;49m_preload_content,\n\u001b[1;32m    <a href='file:///Users/josh/opt/anaconda3/envs/data-science/lib/python3.9/site-packages/seldon_deploy_sdk/rest.py?line=273'>274</a>\u001b[0m                         _request_timeout\u001b[39m=\u001b[39;49m_request_timeout,\n\u001b[1;32m    <a href='file:///Users/josh/opt/anaconda3/envs/data-science/lib/python3.9/site-packages/seldon_deploy_sdk/rest.py?line=274'>275</a>\u001b[0m                         body\u001b[39m=\u001b[39;49mbody)\n",
      "File \u001b[0;32m~/opt/anaconda3/envs/data-science/lib/python3.9/site-packages/seldon_deploy_sdk/rest.py:228\u001b[0m, in \u001b[0;36mRESTClientObject.request\u001b[0;34m(self, method, url, query_params, headers, body, post_params, _preload_content, _request_timeout)\u001b[0m\n\u001b[1;32m    <a href='file:///Users/josh/opt/anaconda3/envs/data-science/lib/python3.9/site-packages/seldon_deploy_sdk/rest.py?line=224'>225</a>\u001b[0m     logger\u001b[39m.\u001b[39mdebug(\u001b[39m\"\u001b[39m\u001b[39mresponse body: \u001b[39m\u001b[39m%s\u001b[39;00m\u001b[39m\"\u001b[39m, r\u001b[39m.\u001b[39mdata)\n\u001b[1;32m    <a href='file:///Users/josh/opt/anaconda3/envs/data-science/lib/python3.9/site-packages/seldon_deploy_sdk/rest.py?line=226'>227</a>\u001b[0m \u001b[39mif\u001b[39;00m \u001b[39mnot\u001b[39;00m \u001b[39m200\u001b[39m \u001b[39m<\u001b[39m\u001b[39m=\u001b[39m r\u001b[39m.\u001b[39mstatus \u001b[39m<\u001b[39m\u001b[39m=\u001b[39m \u001b[39m299\u001b[39m:\n\u001b[0;32m--> <a href='file:///Users/josh/opt/anaconda3/envs/data-science/lib/python3.9/site-packages/seldon_deploy_sdk/rest.py?line=227'>228</a>\u001b[0m     \u001b[39mraise\u001b[39;00m ApiException(http_resp\u001b[39m=\u001b[39mr)\n\u001b[1;32m    <a href='file:///Users/josh/opt/anaconda3/envs/data-science/lib/python3.9/site-packages/seldon_deploy_sdk/rest.py?line=229'>230</a>\u001b[0m \u001b[39mreturn\u001b[39;00m r\n",
      "\u001b[0;31mApiException\u001b[0m: (403)\nReason: Forbidden\nHTTP response headers: HTTPHeaderDict({'content-type': 'application/json', 'date': 'Wed, 15 Jun 2022 18:31:57 GMT', 'content-length': '105', 'x-envoy-upstream-service-time': '1', 'server': 'istio-envoy'})\nHTTP response body: {\"body\":{\"code\":403,\"message\":\"Authorization Denied\",\"requestId\":\"78e7c631-895b-42ba-8555-4257e2948843\"}}\n"
     ]
    }
   ],
   "source": [
    "deployment_api = SeldonDeploymentsApi(auth())\n",
    "deployment_api.create_seldon_deployment(namespace=NAMESPACE, mldeployment=mldeployment)"
   ]
  },
  {
   "cell_type": "code",
   "execution_count": null,
   "metadata": {},
   "outputs": [],
   "source": []
  }
 ],
 "metadata": {
  "interpreter": {
   "hash": "a64daf48265175ab4f9e3b4f218504d1fb45289ba63ff66be172e6ba46f72957"
  },
  "kernelspec": {
   "display_name": "Python 3.9.7 ('data-science')",
   "language": "python",
   "name": "python3"
  },
  "language_info": {
   "codemirror_mode": {
    "name": "ipython",
    "version": 3
   },
   "file_extension": ".py",
   "mimetype": "text/x-python",
   "name": "python",
   "nbconvert_exporter": "python",
   "pygments_lexer": "ipython3",
   "version": "3.9.7"
  },
  "orig_nbformat": 4
 },
 "nbformat": 4,
 "nbformat_minor": 2
}
